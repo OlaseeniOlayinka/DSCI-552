{
  "nbformat": 4,
  "nbformat_minor": 0,
  "metadata": {
    "colab": {
      "name": "Untitled1.ipynb",
      "provenance": [],
      "authorship_tag": "ABX9TyMH1GX77xEog8IKaN46pmuh",
      "include_colab_link": true
    },
    "kernelspec": {
      "name": "python3",
      "display_name": "Python 3"
    },
    "language_info": {
      "name": "python"
    }
  },
  "cells": [
    {
      "cell_type": "markdown",
      "metadata": {
        "id": "view-in-github",
        "colab_type": "text"
      },
      "source": [
        "<a href=\"https://colab.research.google.com/github/OlaseeniOlayinka/CSCI-561/blob/dev/Homework0.ipynb\" target=\"_parent\"><img src=\"https://colab.research.google.com/assets/colab-badge.svg\" alt=\"Open In Colab\"/></a>"
      ]
    },
    {
      "cell_type": "code",
      "metadata": {
        "id": "TqlkEd6yOdJI"
      },
      "source": [
        "import pandas as pd\n",
        "import numpy as np\n",
        "import collections\n",
        "import seaborn as sns"
      ],
      "execution_count": 33,
      "outputs": []
    },
    {
      "cell_type": "code",
      "metadata": {
        "id": "uIbVOriFOmsf"
      },
      "source": [
        "salaries = pd.read_csv(r\"Salaries.csv\")"
      ],
      "execution_count": 18,
      "outputs": []
    },
    {
      "cell_type": "code",
      "metadata": {
        "colab": {
          "base_uri": "https://localhost:8080/",
          "height": 450
        },
        "id": "iRPbIc-iQUnu",
        "outputId": "3d3ad383-479a-473e-ede6-4dba0349d6a7"
      },
      "source": [
        "salaries = salaries.set_index('playerID')\n",
        "salaries"
      ],
      "execution_count": 19,
      "outputs": [
        {
          "output_type": "execute_result",
          "data": {
            "text/html": [
              "<div>\n",
              "<style scoped>\n",
              "    .dataframe tbody tr th:only-of-type {\n",
              "        vertical-align: middle;\n",
              "    }\n",
              "\n",
              "    .dataframe tbody tr th {\n",
              "        vertical-align: top;\n",
              "    }\n",
              "\n",
              "    .dataframe thead th {\n",
              "        text-align: right;\n",
              "    }\n",
              "</style>\n",
              "<table border=\"1\" class=\"dataframe\">\n",
              "  <thead>\n",
              "    <tr style=\"text-align: right;\">\n",
              "      <th></th>\n",
              "      <th>yearID</th>\n",
              "      <th>teamID</th>\n",
              "      <th>lgID</th>\n",
              "      <th>salary</th>\n",
              "    </tr>\n",
              "    <tr>\n",
              "      <th>playerID</th>\n",
              "      <th></th>\n",
              "      <th></th>\n",
              "      <th></th>\n",
              "      <th></th>\n",
              "    </tr>\n",
              "  </thead>\n",
              "  <tbody>\n",
              "    <tr>\n",
              "      <th>barkele01</th>\n",
              "      <td>1985</td>\n",
              "      <td>ATL</td>\n",
              "      <td>NL</td>\n",
              "      <td>870000</td>\n",
              "    </tr>\n",
              "    <tr>\n",
              "      <th>bedrost01</th>\n",
              "      <td>1985</td>\n",
              "      <td>ATL</td>\n",
              "      <td>NL</td>\n",
              "      <td>550000</td>\n",
              "    </tr>\n",
              "    <tr>\n",
              "      <th>benedbr01</th>\n",
              "      <td>1985</td>\n",
              "      <td>ATL</td>\n",
              "      <td>NL</td>\n",
              "      <td>545000</td>\n",
              "    </tr>\n",
              "    <tr>\n",
              "      <th>campri01</th>\n",
              "      <td>1985</td>\n",
              "      <td>ATL</td>\n",
              "      <td>NL</td>\n",
              "      <td>633333</td>\n",
              "    </tr>\n",
              "    <tr>\n",
              "      <th>ceronri01</th>\n",
              "      <td>1985</td>\n",
              "      <td>ATL</td>\n",
              "      <td>NL</td>\n",
              "      <td>625000</td>\n",
              "    </tr>\n",
              "    <tr>\n",
              "      <th>...</th>\n",
              "      <td>...</td>\n",
              "      <td>...</td>\n",
              "      <td>...</td>\n",
              "      <td>...</td>\n",
              "    </tr>\n",
              "    <tr>\n",
              "      <th>treinbl01</th>\n",
              "      <td>2015</td>\n",
              "      <td>WAS</td>\n",
              "      <td>NL</td>\n",
              "      <td>512800</td>\n",
              "    </tr>\n",
              "    <tr>\n",
              "      <th>ugglada01</th>\n",
              "      <td>2015</td>\n",
              "      <td>WAS</td>\n",
              "      <td>NL</td>\n",
              "      <td>507500</td>\n",
              "    </tr>\n",
              "    <tr>\n",
              "      <th>werthja01</th>\n",
              "      <td>2015</td>\n",
              "      <td>WAS</td>\n",
              "      <td>NL</td>\n",
              "      <td>21000000</td>\n",
              "    </tr>\n",
              "    <tr>\n",
              "      <th>zimmejo02</th>\n",
              "      <td>2015</td>\n",
              "      <td>WAS</td>\n",
              "      <td>NL</td>\n",
              "      <td>16500000</td>\n",
              "    </tr>\n",
              "    <tr>\n",
              "      <th>zimmery01</th>\n",
              "      <td>2015</td>\n",
              "      <td>WAS</td>\n",
              "      <td>NL</td>\n",
              "      <td>14000000</td>\n",
              "    </tr>\n",
              "  </tbody>\n",
              "</table>\n",
              "<p>25575 rows × 4 columns</p>\n",
              "</div>"
            ],
            "text/plain": [
              "           yearID teamID lgID    salary\n",
              "playerID                               \n",
              "barkele01    1985    ATL   NL    870000\n",
              "bedrost01    1985    ATL   NL    550000\n",
              "benedbr01    1985    ATL   NL    545000\n",
              "campri01     1985    ATL   NL    633333\n",
              "ceronri01    1985    ATL   NL    625000\n",
              "...           ...    ...  ...       ...\n",
              "treinbl01    2015    WAS   NL    512800\n",
              "ugglada01    2015    WAS   NL    507500\n",
              "werthja01    2015    WAS   NL  21000000\n",
              "zimmejo02    2015    WAS   NL  16500000\n",
              "zimmery01    2015    WAS   NL  14000000\n",
              "\n",
              "[25575 rows x 4 columns]"
            ]
          },
          "metadata": {
            "tags": []
          },
          "execution_count": 19
        }
      ]
    },
    {
      "cell_type": "code",
      "metadata": {
        "id": "v-SUg9IfRW6z"
      },
      "source": [
        "salaries = salaries.drop('bedrost01', axis = 0)"
      ],
      "execution_count": 20,
      "outputs": []
    },
    {
      "cell_type": "code",
      "metadata": {
        "id": "Gwext58FSEK2"
      },
      "source": [
        "atlHouPlayers = salaries[['teamID','salary']]\n",
        "atlPlayers = atlHouPlayers[atlHouPlayers['teamID'] == 'ATL']\n",
        "houPlayers = atlHouPlayers[atlHouPlayers['teamID'] == 'HOU']\n",
        "atl_hou = pd.concat([atlPlayers, houPlayers], axis = 0)\n"
      ],
      "execution_count": 21,
      "outputs": []
    },
    {
      "cell_type": "code",
      "metadata": {
        "colab": {
          "base_uri": "https://localhost:8080/",
          "height": 297
        },
        "id": "GEIZ8Y-IUMUU",
        "outputId": "9882b3cc-d7ee-44ea-d75f-99a4c38d7bfd"
      },
      "source": [
        "atlPlayers.describe()"
      ],
      "execution_count": 22,
      "outputs": [
        {
          "output_type": "execute_result",
          "data": {
            "text/html": [
              "<div>\n",
              "<style scoped>\n",
              "    .dataframe tbody tr th:only-of-type {\n",
              "        vertical-align: middle;\n",
              "    }\n",
              "\n",
              "    .dataframe tbody tr th {\n",
              "        vertical-align: top;\n",
              "    }\n",
              "\n",
              "    .dataframe thead th {\n",
              "        text-align: right;\n",
              "    }\n",
              "</style>\n",
              "<table border=\"1\" class=\"dataframe\">\n",
              "  <thead>\n",
              "    <tr style=\"text-align: right;\">\n",
              "      <th></th>\n",
              "      <th>salary</th>\n",
              "    </tr>\n",
              "  </thead>\n",
              "  <tbody>\n",
              "    <tr>\n",
              "      <th>count</th>\n",
              "      <td>8.820000e+02</td>\n",
              "    </tr>\n",
              "    <tr>\n",
              "      <th>mean</th>\n",
              "      <td>2.213354e+06</td>\n",
              "    </tr>\n",
              "    <tr>\n",
              "      <th>std</th>\n",
              "      <td>3.438817e+06</td>\n",
              "    </tr>\n",
              "    <tr>\n",
              "      <th>min</th>\n",
              "      <td>6.000000e+04</td>\n",
              "    </tr>\n",
              "    <tr>\n",
              "      <th>25%</th>\n",
              "      <td>3.000000e+05</td>\n",
              "    </tr>\n",
              "    <tr>\n",
              "      <th>50%</th>\n",
              "      <td>6.000000e+05</td>\n",
              "    </tr>\n",
              "    <tr>\n",
              "      <th>75%</th>\n",
              "      <td>2.437500e+06</td>\n",
              "    </tr>\n",
              "    <tr>\n",
              "      <th>max</th>\n",
              "      <td>1.606180e+07</td>\n",
              "    </tr>\n",
              "  </tbody>\n",
              "</table>\n",
              "</div>"
            ],
            "text/plain": [
              "             salary\n",
              "count  8.820000e+02\n",
              "mean   2.213354e+06\n",
              "std    3.438817e+06\n",
              "min    6.000000e+04\n",
              "25%    3.000000e+05\n",
              "50%    6.000000e+05\n",
              "75%    2.437500e+06\n",
              "max    1.606180e+07"
            ]
          },
          "metadata": {
            "tags": []
          },
          "execution_count": 22
        }
      ]
    },
    {
      "cell_type": "code",
      "metadata": {
        "colab": {
          "base_uri": "https://localhost:8080/"
        },
        "id": "3of3dxmHSq4d",
        "outputId": "70d4b63e-9d70-4611-aae2-99403a92a62d"
      },
      "source": [
        "rich_players = atlHouPlayers[atlHouPlayers['salary'] > 1000000]\n",
        "rich_players.index  #playerID"
      ],
      "execution_count": 23,
      "outputs": [
        {
          "output_type": "execute_result",
          "data": {
            "text/plain": [
              "Index(['hornebo01', 'murphda05', 'suttebr01', 'lynnfr01', 'murraed02',\n",
              "       'stanlbo01', 'decindo01', 'jacksre01', 'cruzju01', 'seaveto01',\n",
              "       ...\n",
              "       'rendoan01', 'scherma01', 'spande01', 'stammcr01', 'storedr01',\n",
              "       'strasst01', 'thornma01', 'werthja01', 'zimmejo02', 'zimmery01'],\n",
              "      dtype='object', name='playerID', length=9456)"
            ]
          },
          "metadata": {
            "tags": []
          },
          "execution_count": 23
        }
      ]
    },
    {
      "cell_type": "code",
      "metadata": {
        "id": "rDkUK4gaUXRH"
      },
      "source": [
        "salary_dict = collections.defaultdict(list)\n",
        "\n",
        "for key in salaries:\n",
        "  for value in salaries[key]:\n",
        "    salary_dict[key].append(value)"
      ],
      "execution_count": 24,
      "outputs": []
    },
    {
      "cell_type": "code",
      "metadata": {
        "id": "ee7_Zzg_Wiwb"
      },
      "source": [
        "salary_dict = atl_hou.to_dict('list')\n",
        "#salary_dict['teamID']"
      ],
      "execution_count": 25,
      "outputs": []
    },
    {
      "cell_type": "code",
      "metadata": {
        "id": "x_RKlOVUXfNg"
      },
      "source": [
        "player_salary_df = pd.DataFrame(salary_dict)"
      ],
      "execution_count": 32,
      "outputs": []
    },
    {
      "cell_type": "code",
      "metadata": {
        "colab": {
          "base_uri": "https://localhost:8080/",
          "height": 235
        },
        "id": "S8wo_Au_XdDF",
        "outputId": "7fb4d86f-c94b-433e-8443-a9e64e4c58b4"
      },
      "source": [
        "atl_hou.head()"
      ],
      "execution_count": 31,
      "outputs": [
        {
          "output_type": "execute_result",
          "data": {
            "text/html": [
              "<div>\n",
              "<style scoped>\n",
              "    .dataframe tbody tr th:only-of-type {\n",
              "        vertical-align: middle;\n",
              "    }\n",
              "\n",
              "    .dataframe tbody tr th {\n",
              "        vertical-align: top;\n",
              "    }\n",
              "\n",
              "    .dataframe thead th {\n",
              "        text-align: right;\n",
              "    }\n",
              "</style>\n",
              "<table border=\"1\" class=\"dataframe\">\n",
              "  <thead>\n",
              "    <tr style=\"text-align: right;\">\n",
              "      <th></th>\n",
              "      <th>teamID</th>\n",
              "      <th>salary</th>\n",
              "    </tr>\n",
              "    <tr>\n",
              "      <th>playerID</th>\n",
              "      <th></th>\n",
              "      <th></th>\n",
              "    </tr>\n",
              "  </thead>\n",
              "  <tbody>\n",
              "    <tr>\n",
              "      <th>barkele01</th>\n",
              "      <td>ATL</td>\n",
              "      <td>870000</td>\n",
              "    </tr>\n",
              "    <tr>\n",
              "      <th>benedbr01</th>\n",
              "      <td>ATL</td>\n",
              "      <td>545000</td>\n",
              "    </tr>\n",
              "    <tr>\n",
              "      <th>campri01</th>\n",
              "      <td>ATL</td>\n",
              "      <td>633333</td>\n",
              "    </tr>\n",
              "    <tr>\n",
              "      <th>ceronri01</th>\n",
              "      <td>ATL</td>\n",
              "      <td>625000</td>\n",
              "    </tr>\n",
              "    <tr>\n",
              "      <th>chambch01</th>\n",
              "      <td>ATL</td>\n",
              "      <td>800000</td>\n",
              "    </tr>\n",
              "  </tbody>\n",
              "</table>\n",
              "</div>"
            ],
            "text/plain": [
              "          teamID  salary\n",
              "playerID                \n",
              "barkele01    ATL  870000\n",
              "benedbr01    ATL  545000\n",
              "campri01     ATL  633333\n",
              "ceronri01    ATL  625000\n",
              "chambch01    ATL  800000"
            ]
          },
          "metadata": {
            "tags": []
          },
          "execution_count": 31
        }
      ]
    },
    {
      "cell_type": "code",
      "metadata": {
        "id": "CslbJ5dLYODG"
      },
      "source": [
        "#salary_dict"
      ],
      "execution_count": 27,
      "outputs": []
    },
    {
      "cell_type": "code",
      "metadata": {
        "id": "U6w5KaoN9smH"
      },
      "source": [
        "a = [[1, 2, 3], [4, 5, 6]]\n",
        "a = np.array(a)"
      ],
      "execution_count": 28,
      "outputs": []
    },
    {
      "cell_type": "code",
      "metadata": {
        "colab": {
          "base_uri": "https://localhost:8080/"
        },
        "id": "eCHwgULd92Zy",
        "outputId": "9796a308-30fd-48b7-f0b6-c9e055d53455"
      },
      "source": [
        "print(a.ndim, a.shape, a.size, a.dtype, a.itemsize, a.data)"
      ],
      "execution_count": 29,
      "outputs": [
        {
          "output_type": "stream",
          "text": [
            "2 (2, 3) 6 int64 8 <memory at 0x7f6f2e960670>\n"
          ],
          "name": "stdout"
        }
      ]
    },
    {
      "cell_type": "code",
      "metadata": {
        "colab": {
          "base_uri": "https://localhost:8080/"
        },
        "id": "w7ma0Zyt-Lpj",
        "outputId": "bd49134d-3edc-4b75-ee59-e9151764fe8a"
      },
      "source": [
        "a = np.reshape(a, (3,2))\n",
        "print(a)"
      ],
      "execution_count": 30,
      "outputs": [
        {
          "output_type": "stream",
          "text": [
            "[[1 2]\n",
            " [3 4]\n",
            " [5 6]]\n"
          ],
          "name": "stdout"
        }
      ]
    },
    {
      "cell_type": "code",
      "metadata": {
        "colab": {
          "base_uri": "https://localhost:8080/"
        },
        "id": "ctEcgS5Z-58t",
        "outputId": "759fbef1-2005-45a9-a700-1c7a59d1f405"
      },
      "source": [
        "print(a.flatten())"
      ],
      "execution_count": null,
      "outputs": [
        {
          "output_type": "stream",
          "text": [
            "[1 2 3 4 5 6]\n"
          ],
          "name": "stdout"
        }
      ]
    },
    {
      "cell_type": "code",
      "metadata": {
        "colab": {
          "base_uri": "https://localhost:8080/"
        },
        "id": "BMTnIcz5_Wab",
        "outputId": "d349d295-25d6-4b66-f25d-58e0ff54f4d6"
      },
      "source": [
        "#slicing\n",
        "print(a[0:2], a[0:2][1], a[1][1:])"
      ],
      "execution_count": null,
      "outputs": [
        {
          "output_type": "stream",
          "text": [
            "[[1 2]\n",
            " [3 4]] [3 4] [4]\n"
          ],
          "name": "stdout"
        }
      ]
    },
    {
      "cell_type": "code",
      "metadata": {
        "colab": {
          "base_uri": "https://localhost:8080/"
        },
        "id": "ftqFLXcb_3IX",
        "outputId": "267e6494-2602-424e-8a85-5b59ab05e7f3"
      },
      "source": [
        "''' argmin(), argmax(), min(), max(), mean(), sum(), std(), dot(), square(), sqrt(),\n",
        " abs(). exp(), sign(), and mod()arange(), ones(), zeros(), eye(), linspace(), concatenate'''\n",
        "\n",
        "#argmin\n",
        "print('for columns, ', np.argmin(a, axis = 0))\n",
        "print('for rows, ', ' ', np.argmin(a, axis = 1))\n",
        "print(np.max(a), np.min(a))\n",
        "\n",
        "print(np.sum(a), np.mean(a))\n",
        "print(np.std(a)) # standard deviation\n",
        "print(np.dot(a, np.random.randint(6, size = (2,3))))\n",
        "print(np.square(a))\n",
        "print(np.sqrt(a))\n",
        "print(np.zeros(6))"
      ],
      "execution_count": null,
      "outputs": [
        {
          "output_type": "stream",
          "text": [
            "for columns,  [0 0]\n",
            "for rows,    [0 0 0]\n",
            "6 1\n",
            "21 3.5\n",
            "1.707825127659933\n",
            "[[ 7  2 12]\n",
            " [19  4 26]\n",
            " [31  6 40]]\n",
            "[[ 1  4]\n",
            " [ 9 16]\n",
            " [25 36]]\n",
            "[[1.         1.41421356]\n",
            " [1.73205081 2.        ]\n",
            " [2.23606798 2.44948974]]\n",
            "[0. 0. 0. 0. 0. 0.]\n"
          ],
          "name": "stdout"
        }
      ]
    },
    {
      "cell_type": "code",
      "metadata": {
        "id": "lnz6X8SLCvk4"
      },
      "source": [
        "#matplotlib\n",
        "import matplotlib.pyplot as plt\n"
      ],
      "execution_count": 1,
      "outputs": []
    },
    {
      "cell_type": "code",
      "metadata": {
        "id": "3-9q4QuPLCG9",
        "outputId": "6c2244b0-1b10-4eba-8b2e-efa2fa7e0488",
        "colab": {
          "base_uri": "https://localhost:8080/",
          "height": 279
        }
      },
      "source": [
        "xpoints = np.array([0,3, 6])\n",
        "ypoints = np.array([0,125, 250])\n",
        "#print(xpoints, ypoints)\n",
        "\n",
        "\n",
        "plt.plot(xpoints, ypoints, marker = 'o')\n",
        "plt.xlabel(\"Random x values\")\n",
        "plt.ylabel(\"Random y values\")\n",
        "plt.show()"
      ],
      "execution_count": 14,
      "outputs": [
        {
          "output_type": "display_data",
          "data": {
            "image/png": "[encoded data removed]",
            "text/plain": [
              "<Figure size 432x288 with 1 Axes>"
            ]
          },
          "metadata": {
            "tags": [],
            "needs_background": "light"
          }
        }
      ]
    },
    {
      "cell_type": "code",
      "metadata": {
        "id": "sB-ipCidOskp",
        "outputId": "d46c0a51-3641-4a81-cc31-d4a93da57146",
        "colab": {
          "base_uri": "https://localhost:8080/",
          "height": 419
        }
      },
      "source": [
        "player_salary_df\n"
      ],
      "execution_count": 35,
      "outputs": [
        {
          "output_type": "execute_result",
          "data": {
            "text/html": [
              "<div>\n",
              "<style scoped>\n",
              "    .dataframe tbody tr th:only-of-type {\n",
              "        vertical-align: middle;\n",
              "    }\n",
              "\n",
              "    .dataframe tbody tr th {\n",
              "        vertical-align: top;\n",
              "    }\n",
              "\n",
              "    .dataframe thead th {\n",
              "        text-align: right;\n",
              "    }\n",
              "</style>\n",
              "<table border=\"1\" class=\"dataframe\">\n",
              "  <thead>\n",
              "    <tr style=\"text-align: right;\">\n",
              "      <th></th>\n",
              "      <th>teamID</th>\n",
              "      <th>salary</th>\n",
              "    </tr>\n",
              "  </thead>\n",
              "  <tbody>\n",
              "    <tr>\n",
              "      <th>0</th>\n",
              "      <td>ATL</td>\n",
              "      <td>870000</td>\n",
              "    </tr>\n",
              "    <tr>\n",
              "      <th>1</th>\n",
              "      <td>ATL</td>\n",
              "      <td>545000</td>\n",
              "    </tr>\n",
              "    <tr>\n",
              "      <th>2</th>\n",
              "      <td>ATL</td>\n",
              "      <td>633333</td>\n",
              "    </tr>\n",
              "    <tr>\n",
              "      <th>3</th>\n",
              "      <td>ATL</td>\n",
              "      <td>625000</td>\n",
              "    </tr>\n",
              "    <tr>\n",
              "      <th>4</th>\n",
              "      <td>ATL</td>\n",
              "      <td>800000</td>\n",
              "    </tr>\n",
              "    <tr>\n",
              "      <th>...</th>\n",
              "      <td>...</td>\n",
              "      <td>...</td>\n",
              "    </tr>\n",
              "    <tr>\n",
              "      <th>1730</th>\n",
              "      <td>HOU</td>\n",
              "      <td>2000000</td>\n",
              "    </tr>\n",
              "    <tr>\n",
              "      <th>1731</th>\n",
              "      <td>HOU</td>\n",
              "      <td>2400000</td>\n",
              "    </tr>\n",
              "    <tr>\n",
              "      <th>1732</th>\n",
              "      <td>HOU</td>\n",
              "      <td>512900</td>\n",
              "    </tr>\n",
              "    <tr>\n",
              "      <th>1733</th>\n",
              "      <td>HOU</td>\n",
              "      <td>1000000</td>\n",
              "    </tr>\n",
              "    <tr>\n",
              "      <th>1734</th>\n",
              "      <td>HOU</td>\n",
              "      <td>4200000</td>\n",
              "    </tr>\n",
              "  </tbody>\n",
              "</table>\n",
              "<p>1735 rows × 2 columns</p>\n",
              "</div>"
            ],
            "text/plain": [
              "     teamID   salary\n",
              "0       ATL   870000\n",
              "1       ATL   545000\n",
              "2       ATL   633333\n",
              "3       ATL   625000\n",
              "4       ATL   800000\n",
              "...     ...      ...\n",
              "1730    HOU  2000000\n",
              "1731    HOU  2400000\n",
              "1732    HOU   512900\n",
              "1733    HOU  1000000\n",
              "1734    HOU  4200000\n",
              "\n",
              "[1735 rows x 2 columns]"
            ]
          },
          "metadata": {
            "tags": []
          },
          "execution_count": 35
        }
      ]
    },
    {
      "cell_type": "code",
      "metadata": {
        "id": "W02KyLPrMcZV",
        "outputId": "055949bb-b145-429c-a9d5-a57a48e0b4e9",
        "colab": {
          "base_uri": "https://localhost:8080/",
          "height": 344
        }
      },
      "source": [
        "sns.distplot(player_salary_df.salary, hist=False)\n",
        "\n",
        "plt.show()\n",
        "\n",
        "#player_salary_df"
      ],
      "execution_count": 37,
      "outputs": [
        {
          "output_type": "stream",
          "text": [
            "/usr/local/lib/python3.7/dist-packages/seaborn/distributions.py:2557: FutureWarning: `distplot` is a deprecated function and will be removed in a future version. Please adapt your code to use either `displot` (a figure-level function with similar flexibility) or `kdeplot` (an axes-level function for kernel density plots).\n",
            "  warnings.warn(msg, FutureWarning)\n"
          ],
          "name": "stderr"
        },
        {
          "output_type": "display_data",
          "data": {
            "image/png": "[encoded data removed]",
            "text/plain": [
              "<Figure size 432x288 with 1 Axes>"
            ]
          },
          "metadata": {
            "tags": [],
            "needs_background": "light"
          }
        }
      ]
    }
  ]
}